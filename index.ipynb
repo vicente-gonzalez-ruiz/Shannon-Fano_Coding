{
 "cells": [
  {
   "cell_type": "markdown",
   "metadata": {
    "slideshow": {
     "slide_type": "slide"
    }
   },
   "source": [
    "#  [Shannon-Fano coding](https://en.wikipedia.org/wiki/Shannon%E2%80%93Fano_coding) [[Shannon, 1948]](https://scholar.google.es/scholar?hl=es&as_sdt=0%2C5&q=Shannon+2001+A+Mathematical+Theory+of+Communication&btnG=),  [[Fano, 1949]](https://scholar.google.es/scholar?hl=es&as_sdt=0%2C5&q=Fano+1949+%22The+transmission+of+information%22&btnG=)\n",
    "\n",
    "* At the end of the 40's, Claude E. Shannon (Bell Labs) and\n",
    "  R.M. Fano (MIT) developed the Shannnon-Fano codec."
   ]
  },
  {
   "cell_type": "markdown",
   "metadata": {
    "slideshow": {
     "slide_type": "subslide"
    }
   },
   "source": [
    "### Encoder\n",
    "\n",
    "1. Sort the symbols using their probabilities.\n",
    "2. Split the set of symbols into two subsets in a way in which the\n",
    "   each subset have the same total probability.\n",
    "3. Assign a different bit to each set.\n",
    "4. Repeat the previous procedure to each subset until  each subset\n",
    "   has only one symbol."
   ]
  },
  {
   "cell_type": "markdown",
   "metadata": {
    "slideshow": {
     "slide_type": "subslide"
    }
   },
   "source": [
    "### Example\n",
    "\n",
    "* Let's use the following probabilistic model:\n",
    "\n",
    "<img src=\"data/shannon-fano_example.png\" width=\"180\">\n",
    "\n",
    "Using it, this is the Shannon-Fano coding:\n",
    "\n",
    "<img src=\"data/shannon-fano_example-coding.png\" width=\"1000\">"
   ]
  },
  {
   "cell_type": "markdown",
   "metadata": {
    "collapsed": true,
    "slideshow": {
     "slide_type": "subslide"
    }
   },
   "source": [
    "### Decoder\n",
    "\n",
    "TO-DO."
   ]
  }
 ],
 "metadata": {
  "celltoolbar": "Slideshow",
  "kernelspec": {
   "display_name": "Python 3",
   "language": "python",
   "name": "python3"
  },
  "language_info": {
   "codemirror_mode": {
    "name": "ipython",
    "version": 3
   },
   "file_extension": ".py",
   "mimetype": "text/x-python",
   "name": "python",
   "nbconvert_exporter": "python",
   "pygments_lexer": "ipython3",
   "version": "3.6.4"
  }
 },
 "nbformat": 4,
 "nbformat_minor": 1
}
